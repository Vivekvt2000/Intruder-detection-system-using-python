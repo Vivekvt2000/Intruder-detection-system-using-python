{
 "cells": [
  {
   "cell_type": "code",
   "execution_count": null,
   "metadata": {},
   "outputs": [],
   "source": [
    "#to import cv2 \n",
    "import cv2\n",
    "model = cv2.CascadeClassifier('haarcascade_frontalface_default.xml')\n",
    "#to capture video\n",
    "cap = cv2.VideoCapture(0)\n",
    "while True : \n",
    "    ret, photo = cap.read()\n",
    "    faces =  model.detectMultiScale(photo)\n",
    "    if  len(faces) == 0:\n",
    "        pass\n",
    "    else:\n",
    "        x1=faces[0][0]\n",
    "        y1=faces[0][1]\n",
    "        x2=x1 + faces[0][2]\n",
    "        y2=y1 + faces[0][3]\n",
    "#to detect face\n",
    "        aphoto = cv2.rectangle(photo, (x1,y1),(x2,y2), [0,255,0], 5 )\n",
    "        cv2.imshow('hi', aphoto)\n",
    "        if cv2.waitKey(200) == 13:\n",
    "            break\n",
    "        \n",
    "        \n",
    "cv2.destroyAllWindows()\n",
    "cap.release()\n",
    "#to save image of intuder\n",
    "cv2.imwrite(\"intruderface.jpg\",aphoto)\n"
   ]
  },
  {
   "cell_type": "code",
   "execution_count": null,
   "metadata": {},
   "outputs": [],
   "source": [
    "#to send mail from smtp mail server\n",
    "import smtplib\n",
    "import imghdr\n",
    "from email.message import EmailMessage\n",
    "from getpass import getpass\n",
    "# sender mail and pass\n",
    "Sender_Email = \"ragavendra015@gmail.com\"\n",
    "password = getpass()\n",
    "#message\n",
    "newMessage = EmailMessage()                         \n",
    "newMessage['Subject'] = \"Check the image to see who intruded\" \n",
    "newMessage['From'] = Sender_Email                   \n",
    "newMessage['To'] = Reciever_Email                   \n",
    "newMessage.set_content('Intruder found!!') \n",
    "\n",
    "with open('cvbcv.jpg', 'rb') as img:\n",
    "    image_data = img.read()\n",
    "    image_type = imghdr.what(img.name)\n",
    "    image_name = img.name\n",
    "\n",
    "newMessage.add_attachment(image_data, maintype='image', subtype=image_type, filename=image_name)\n",
    "\n",
    "with smtplib.SMTP_SSL('smtp.gmail.com', 465) as smtp:\n",
    "    \n",
    "    smtp.login(Sender_Email, password) \n",
    "    print(\"sucessfully logged in\")\n",
    "    smtp.send_message(newMessage) \n",
    "    print(\"email sent sucessfully\")"
   ]
  },
  {
   "cell_type": "code",
   "execution_count": null,
   "metadata": {},
   "outputs": [],
   "source": []
  }
 ],
 "metadata": {
  "kernelspec": {
   "display_name": "Python 3",
   "language": "python",
   "name": "python3"
  },
  "language_info": {
   "codemirror_mode": {
    "name": "ipython",
    "version": 3
   },
   "file_extension": ".py",
   "mimetype": "text/x-python",
   "name": "python",
   "nbconvert_exporter": "python",
   "pygments_lexer": "ipython3",
   "version": "3.8.3"
  }
 },
 "nbformat": 4,
 "nbformat_minor": 4
}
